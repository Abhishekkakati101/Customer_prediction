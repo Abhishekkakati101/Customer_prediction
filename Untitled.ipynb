{
 "cells": [
  {
   "cell_type": "code",
   "execution_count": 2,
   "id": "bc1b2d10",
   "metadata": {},
   "outputs": [],
   "source": [
    "import numpy as np\n",
    "import pandas as pd\n",
    "import tensorflow as tf"
   ]
  },
  {
   "cell_type": "code",
   "execution_count": 3,
   "id": "cc5e4528",
   "metadata": {},
   "outputs": [
    {
     "data": {
      "text/plain": [
       "'2.6.0'"
      ]
     },
     "execution_count": 3,
     "metadata": {},
     "output_type": "execute_result"
    }
   ],
   "source": [
    "tf.__version__"
   ]
  },
  {
   "cell_type": "code",
   "execution_count": 4,
   "id": "4971e290",
   "metadata": {},
   "outputs": [],
   "source": [
    "dataset = pd.read_csv('Churn_Modelling.csv')\n",
    "X = dataset.iloc[:, 3:-1].values\n",
    "y = dataset.iloc[:, -1].values"
   ]
  },
  {
   "cell_type": "code",
   "execution_count": 5,
   "id": "5fd6b337",
   "metadata": {},
   "outputs": [
    {
     "name": "stdout",
     "output_type": "stream",
     "text": [
      "[[619 'France' 'Female' ... 1 1 101348.88]\n",
      " [608 'Spain' 'Female' ... 0 1 112542.58]\n",
      " [502 'France' 'Female' ... 1 0 113931.57]\n",
      " ...\n",
      " [709 'France' 'Female' ... 0 1 42085.58]\n",
      " [772 'Germany' 'Male' ... 1 0 92888.52]\n",
      " [792 'France' 'Female' ... 1 0 38190.78]]\n"
     ]
    }
   ],
   "source": [
    "print(X)"
   ]
  },
  {
   "cell_type": "code",
   "execution_count": 6,
   "id": "393603b0",
   "metadata": {},
   "outputs": [
    {
     "name": "stdout",
     "output_type": "stream",
     "text": [
      "[1 0 1 ... 1 1 0]\n"
     ]
    }
   ],
   "source": [
    "print(y)"
   ]
  },
  {
   "cell_type": "markdown",
   "id": "2833bc47",
   "metadata": {},
   "source": [
    "# Encoding categorical data"
   ]
  },
  {
   "cell_type": "markdown",
   "id": "c6371e3f",
   "metadata": {},
   "source": [
    "Label Encoding the Gender column"
   ]
  },
  {
   "cell_type": "code",
   "execution_count": 7,
   "id": "5783b946",
   "metadata": {},
   "outputs": [],
   "source": [
    "from  sklearn.preprocessing import LabelEncoder\n",
    "le = LabelEncoder()\n",
    "X[:,2] = le.fit_transform(X[:, 2])"
   ]
  },
  {
   "cell_type": "code",
   "execution_count": 8,
   "id": "7369d7aa",
   "metadata": {},
   "outputs": [
    {
     "name": "stdout",
     "output_type": "stream",
     "text": [
      "[[619 'France' 0 ... 1 1 101348.88]\n",
      " [608 'Spain' 0 ... 0 1 112542.58]\n",
      " [502 'France' 0 ... 1 0 113931.57]\n",
      " ...\n",
      " [709 'France' 0 ... 0 1 42085.58]\n",
      " [772 'Germany' 1 ... 1 0 92888.52]\n",
      " [792 'France' 0 ... 1 0 38190.78]]\n"
     ]
    }
   ],
   "source": [
    "print(X)"
   ]
  },
  {
   "cell_type": "markdown",
   "id": "31e1d288",
   "metadata": {},
   "source": [
    "One Hot Encoding the \"Geography\" column"
   ]
  },
  {
   "cell_type": "code",
   "execution_count": 9,
   "id": "4b49a445",
   "metadata": {},
   "outputs": [],
   "source": [
    "from sklearn.compose import ColumnTransformer\n",
    "from sklearn.preprocessing import OneHotEncoder\n",
    "ct = ColumnTransformer(transformers=[('encoder', OneHotEncoder(), [1])], remainder='passthrough')\n",
    "X = np.array(ct.fit_transform(X))"
   ]
  },
  {
   "cell_type": "code",
   "execution_count": 10,
   "id": "7299e091",
   "metadata": {},
   "outputs": [
    {
     "name": "stdout",
     "output_type": "stream",
     "text": [
      "[[1.0 0.0 0.0 ... 1 1 101348.88]\n",
      " [0.0 0.0 1.0 ... 0 1 112542.58]\n",
      " [1.0 0.0 0.0 ... 1 0 113931.57]\n",
      " ...\n",
      " [1.0 0.0 0.0 ... 0 1 42085.58]\n",
      " [0.0 1.0 0.0 ... 1 0 92888.52]\n",
      " [1.0 0.0 0.0 ... 1 0 38190.78]]\n"
     ]
    }
   ],
   "source": [
    "print(X)"
   ]
  },
  {
   "cell_type": "markdown",
   "id": "c29f46dc",
   "metadata": {},
   "source": [
    "# Splitting the dataset into the Training set and Test set"
   ]
  },
  {
   "cell_type": "code",
   "execution_count": 11,
   "id": "972c8d50",
   "metadata": {},
   "outputs": [],
   "source": [
    "from sklearn.model_selection import train_test_split\n",
    "X_train, X_test, y_train, y_test = train_test_split(X, y, test_size = 0.2, random_state = 0)"
   ]
  },
  {
   "cell_type": "markdown",
   "id": "4803220a",
   "metadata": {},
   "source": [
    "# Feature Scaling"
   ]
  },
  {
   "cell_type": "code",
   "execution_count": 12,
   "id": "da73998b",
   "metadata": {},
   "outputs": [],
   "source": [
    "from sklearn.preprocessing import StandardScaler\n",
    "sc = StandardScaler()\n",
    "X_train = sc.fit_transform(X_train)\n",
    "X_test = sc.transform(X_test)"
   ]
  },
  {
   "cell_type": "markdown",
   "id": "5f37758f",
   "metadata": {},
   "source": [
    "# Initializing the ANN"
   ]
  },
  {
   "cell_type": "code",
   "execution_count": 13,
   "id": "f2b21e34",
   "metadata": {},
   "outputs": [],
   "source": [
    "ann = tf.keras.models.Sequential()"
   ]
  },
  {
   "cell_type": "markdown",
   "id": "60d2c531",
   "metadata": {},
   "source": [
    "Adding the input layer and the first hidden layer"
   ]
  },
  {
   "cell_type": "code",
   "execution_count": 14,
   "id": "ba2499de",
   "metadata": {},
   "outputs": [],
   "source": [
    "ann.add(tf.keras.layers.Dense(units = 6, activation = 'relu'))"
   ]
  },
  {
   "cell_type": "markdown",
   "id": "b0d09bed",
   "metadata": {},
   "source": [
    "Adding the second hidden layer"
   ]
  },
  {
   "cell_type": "code",
   "execution_count": 16,
   "id": "8cea6611",
   "metadata": {},
   "outputs": [],
   "source": [
    "ann.add(tf.keras.layers.Dense(units = 6, activation = 'relu'))"
   ]
  },
  {
   "cell_type": "markdown",
   "id": "56522b50",
   "metadata": {},
   "source": [
    "Adding the Output Layer"
   ]
  },
  {
   "cell_type": "code",
   "execution_count": 17,
   "id": "4d866344",
   "metadata": {},
   "outputs": [],
   "source": [
    "ann.add(tf.keras.layers.Dense(units = 1, activation = 'sigmoid'))"
   ]
  },
  {
   "cell_type": "markdown",
   "id": "fa732525",
   "metadata": {},
   "source": [
    "# Training the Ann"
   ]
  },
  {
   "cell_type": "markdown",
   "id": "59937e61",
   "metadata": {},
   "source": [
    "Compiling the ANN"
   ]
  },
  {
   "cell_type": "code",
   "execution_count": 19,
   "id": "7b65ddc9",
   "metadata": {},
   "outputs": [],
   "source": [
    "ann.compile(optimizer = 'adam' , loss = 'binary_crossentropy' , metrics = ['accuracy'])"
   ]
  },
  {
   "cell_type": "markdown",
   "id": "924588b4",
   "metadata": {},
   "source": [
    "Training the ANN on the Training Set"
   ]
  },
  {
   "cell_type": "code",
   "execution_count": 20,
   "id": "c3c40ab4",
   "metadata": {},
   "outputs": [
    {
     "name": "stdout",
     "output_type": "stream",
     "text": [
      "Epoch 1/100\n",
      "250/250 [==============================] - 1s 722us/step - loss: 0.6459 - accuracy: 0.6465\n",
      "Epoch 2/100\n",
      "250/250 [==============================] - 0s 550us/step - loss: 0.5084 - accuracy: 0.7960\n",
      "Epoch 3/100\n",
      "250/250 [==============================] - 0s 529us/step - loss: 0.4494 - accuracy: 0.7969\n",
      "Epoch 4/100\n",
      "250/250 [==============================] - 0s 521us/step - loss: 0.4290 - accuracy: 0.8123\n",
      "Epoch 5/100\n",
      "250/250 [==============================] - 0s 501us/step - loss: 0.4187 - accuracy: 0.8199\n",
      "Epoch 6/100\n",
      "250/250 [==============================] - 0s 514us/step - loss: 0.4121 - accuracy: 0.8249\n",
      "Epoch 7/100\n",
      "250/250 [==============================] - 0s 498us/step - loss: 0.4068 - accuracy: 0.8244\n",
      "Epoch 8/100\n",
      "250/250 [==============================] - 0s 505us/step - loss: 0.4019 - accuracy: 0.8279\n",
      "Epoch 9/100\n",
      "250/250 [==============================] - 0s 508us/step - loss: 0.3975 - accuracy: 0.8284\n",
      "Epoch 10/100\n",
      "250/250 [==============================] - 0s 528us/step - loss: 0.3938 - accuracy: 0.8288\n",
      "Epoch 11/100\n",
      "250/250 [==============================] - 0s 500us/step - loss: 0.3904 - accuracy: 0.8299\n",
      "Epoch 12/100\n",
      "250/250 [==============================] - 0s 594us/step - loss: 0.3863 - accuracy: 0.8340\n",
      "Epoch 13/100\n",
      "250/250 [==============================] - 0s 561us/step - loss: 0.3818 - accuracy: 0.8372\n",
      "Epoch 14/100\n",
      "250/250 [==============================] - 0s 518us/step - loss: 0.3773 - accuracy: 0.8409\n",
      "Epoch 15/100\n",
      "250/250 [==============================] - 0s 513us/step - loss: 0.3728 - accuracy: 0.8456\n",
      "Epoch 16/100\n",
      "250/250 [==============================] - 0s 497us/step - loss: 0.3677 - accuracy: 0.8472\n",
      "Epoch 17/100\n",
      "250/250 [==============================] - 0s 509us/step - loss: 0.3623 - accuracy: 0.8508\n",
      "Epoch 18/100\n",
      "250/250 [==============================] - 0s 521us/step - loss: 0.3578 - accuracy: 0.8525\n",
      "Epoch 19/100\n",
      "250/250 [==============================] - 0s 509us/step - loss: 0.3544 - accuracy: 0.8547\n",
      "Epoch 20/100\n",
      "250/250 [==============================] - 0s 523us/step - loss: 0.3511 - accuracy: 0.8555\n",
      "Epoch 21/100\n",
      "250/250 [==============================] - 0s 519us/step - loss: 0.3487 - accuracy: 0.8574\n",
      "Epoch 22/100\n",
      "250/250 [==============================] - 0s 548us/step - loss: 0.3468 - accuracy: 0.8594\n",
      "Epoch 23/100\n",
      "250/250 [==============================] - 0s 515us/step - loss: 0.3447 - accuracy: 0.8589\n",
      "Epoch 24/100\n",
      "250/250 [==============================] - 0s 505us/step - loss: 0.3432 - accuracy: 0.8605\n",
      "Epoch 25/100\n",
      "250/250 [==============================] - 0s 503us/step - loss: 0.3417 - accuracy: 0.8618\n",
      "Epoch 26/100\n",
      "250/250 [==============================] - 0s 585us/step - loss: 0.3412 - accuracy: 0.8611\n",
      "Epoch 27/100\n",
      "250/250 [==============================] - 0s 607us/step - loss: 0.3401 - accuracy: 0.8626\n",
      "Epoch 28/100\n",
      "250/250 [==============================] - 0s 573us/step - loss: 0.3402 - accuracy: 0.8621\n",
      "Epoch 29/100\n",
      "250/250 [==============================] - 0s 515us/step - loss: 0.3393 - accuracy: 0.8634\n",
      "Epoch 30/100\n",
      "250/250 [==============================] - 0s 533us/step - loss: 0.3388 - accuracy: 0.8620\n",
      "Epoch 31/100\n",
      "250/250 [==============================] - 0s 593us/step - loss: 0.3380 - accuracy: 0.8627\n",
      "Epoch 32/100\n",
      "250/250 [==============================] - 0s 658us/step - loss: 0.3380 - accuracy: 0.8615\n",
      "Epoch 33/100\n",
      "250/250 [==============================] - 0s 553us/step - loss: 0.3380 - accuracy: 0.8636\n",
      "Epoch 34/100\n",
      "250/250 [==============================] - 0s 521us/step - loss: 0.3373 - accuracy: 0.8641\n",
      "Epoch 35/100\n",
      "250/250 [==============================] - 0s 556us/step - loss: 0.3369 - accuracy: 0.8626\n",
      "Epoch 36/100\n",
      "250/250 [==============================] - 0s 525us/step - loss: 0.3369 - accuracy: 0.8625\n",
      "Epoch 37/100\n",
      "250/250 [==============================] - 0s 550us/step - loss: 0.3362 - accuracy: 0.8621\n",
      "Epoch 38/100\n",
      "250/250 [==============================] - 0s 516us/step - loss: 0.3366 - accuracy: 0.8635\n",
      "Epoch 39/100\n",
      "250/250 [==============================] - 0s 510us/step - loss: 0.3367 - accuracy: 0.8626\n",
      "Epoch 40/100\n",
      "250/250 [==============================] - 0s 505us/step - loss: 0.3355 - accuracy: 0.8641\n",
      "Epoch 41/100\n",
      "250/250 [==============================] - 0s 525us/step - loss: 0.3357 - accuracy: 0.8635\n",
      "Epoch 42/100\n",
      "250/250 [==============================] - 0s 537us/step - loss: 0.3353 - accuracy: 0.8633\n",
      "Epoch 43/100\n",
      "250/250 [==============================] - 0s 553us/step - loss: 0.3347 - accuracy: 0.8645\n",
      "Epoch 44/100\n",
      "250/250 [==============================] - 0s 525us/step - loss: 0.3351 - accuracy: 0.8643\n",
      "Epoch 45/100\n",
      "250/250 [==============================] - 0s 550us/step - loss: 0.3346 - accuracy: 0.8643\n",
      "Epoch 46/100\n",
      "250/250 [==============================] - 0s 534us/step - loss: 0.3343 - accuracy: 0.8641\n",
      "Epoch 47/100\n",
      "250/250 [==============================] - 0s 536us/step - loss: 0.3344 - accuracy: 0.8637\n",
      "Epoch 48/100\n",
      "250/250 [==============================] - 0s 537us/step - loss: 0.3347 - accuracy: 0.8633\n",
      "Epoch 49/100\n",
      "250/250 [==============================] - 0s 547us/step - loss: 0.3341 - accuracy: 0.8641\n",
      "Epoch 50/100\n",
      "250/250 [==============================] - 0s 537us/step - loss: 0.3335 - accuracy: 0.8643\n",
      "Epoch 51/100\n",
      "250/250 [==============================] - 0s 565us/step - loss: 0.3336 - accuracy: 0.8629\n",
      "Epoch 52/100\n",
      "250/250 [==============================] - 0s 577us/step - loss: 0.3334 - accuracy: 0.8643\n",
      "Epoch 53/100\n",
      "250/250 [==============================] - 0s 553us/step - loss: 0.3333 - accuracy: 0.8654\n",
      "Epoch 54/100\n",
      "250/250 [==============================] - 0s 553us/step - loss: 0.3333 - accuracy: 0.8630\n",
      "Epoch 55/100\n",
      "250/250 [==============================] - 0s 521us/step - loss: 0.3330 - accuracy: 0.8645\n",
      "Epoch 56/100\n",
      "250/250 [==============================] - 0s 533us/step - loss: 0.3330 - accuracy: 0.8644\n",
      "Epoch 57/100\n",
      "250/250 [==============================] - 0s 513us/step - loss: 0.3326 - accuracy: 0.8644\n",
      "Epoch 58/100\n",
      "250/250 [==============================] - 0s 518us/step - loss: 0.3325 - accuracy: 0.8637\n",
      "Epoch 59/100\n",
      "250/250 [==============================] - 0s 669us/step - loss: 0.3327 - accuracy: 0.8635\n",
      "Epoch 60/100\n",
      "250/250 [==============================] - 0s 775us/step - loss: 0.3323 - accuracy: 0.8651\n",
      "Epoch 61/100\n",
      "250/250 [==============================] - 0s 614us/step - loss: 0.3323 - accuracy: 0.8626\n",
      "Epoch 62/100\n",
      "250/250 [==============================] - 0s 580us/step - loss: 0.3322 - accuracy: 0.8640\n",
      "Epoch 63/100\n",
      "250/250 [==============================] - 0s 689us/step - loss: 0.3318 - accuracy: 0.8637\n",
      "Epoch 64/100\n",
      "250/250 [==============================] - 0s 676us/step - loss: 0.3315 - accuracy: 0.8649\n",
      "Epoch 65/100\n",
      "250/250 [==============================] - 0s 561us/step - loss: 0.3323 - accuracy: 0.8624\n",
      "Epoch 66/100\n",
      "250/250 [==============================] - 0s 554us/step - loss: 0.3318 - accuracy: 0.8644\n",
      "Epoch 67/100\n",
      "250/250 [==============================] - 0s 505us/step - loss: 0.3313 - accuracy: 0.8660\n",
      "Epoch 68/100\n",
      "250/250 [==============================] - 0s 507us/step - loss: 0.3310 - accuracy: 0.8651\n",
      "Epoch 69/100\n",
      "250/250 [==============================] - 0s 597us/step - loss: 0.3317 - accuracy: 0.8644\n",
      "Epoch 70/100\n",
      "250/250 [==============================] - 0s 621us/step - loss: 0.3312 - accuracy: 0.8649\n",
      "Epoch 71/100\n",
      "250/250 [==============================] - 0s 597us/step - loss: 0.3310 - accuracy: 0.8649\n",
      "Epoch 72/100\n",
      "250/250 [==============================] - 0s 537us/step - loss: 0.3310 - accuracy: 0.8635\n",
      "Epoch 73/100\n",
      "250/250 [==============================] - 0s 529us/step - loss: 0.3305 - accuracy: 0.8656\n",
      "Epoch 74/100\n",
      "250/250 [==============================] - 0s 565us/step - loss: 0.3311 - accuracy: 0.8644\n",
      "Epoch 75/100\n",
      "250/250 [==============================] - 0s 536us/step - loss: 0.3308 - accuracy: 0.8649\n",
      "Epoch 76/100\n",
      "250/250 [==============================] - 0s 519us/step - loss: 0.3309 - accuracy: 0.8643\n",
      "Epoch 77/100\n",
      "250/250 [==============================] - 0s 546us/step - loss: 0.3306 - accuracy: 0.8652\n",
      "Epoch 78/100\n",
      "250/250 [==============================] - 0s 529us/step - loss: 0.3305 - accuracy: 0.8646\n",
      "Epoch 79/100\n"
     ]
    },
    {
     "name": "stdout",
     "output_type": "stream",
     "text": [
      "250/250 [==============================] - 0s 515us/step - loss: 0.3305 - accuracy: 0.8631\n",
      "Epoch 80/100\n",
      "250/250 [==============================] - 0s 525us/step - loss: 0.3309 - accuracy: 0.8654\n",
      "Epoch 81/100\n",
      "250/250 [==============================] - 0s 509us/step - loss: 0.3304 - accuracy: 0.8643\n",
      "Epoch 82/100\n",
      "250/250 [==============================] - 0s 549us/step - loss: 0.3303 - accuracy: 0.8643\n",
      "Epoch 83/100\n",
      "250/250 [==============================] - 0s 649us/step - loss: 0.3306 - accuracy: 0.8646\n",
      "Epoch 84/100\n",
      "250/250 [==============================] - 0s 513us/step - loss: 0.3299 - accuracy: 0.8648\n",
      "Epoch 85/100\n",
      "250/250 [==============================] - 0s 535us/step - loss: 0.3305 - accuracy: 0.8664\n",
      "Epoch 86/100\n",
      "250/250 [==============================] - 0s 531us/step - loss: 0.3304 - accuracy: 0.8639\n",
      "Epoch 87/100\n",
      "250/250 [==============================] - 0s 620us/step - loss: 0.3302 - accuracy: 0.8643\n",
      "Epoch 88/100\n",
      "250/250 [==============================] - 0s 559us/step - loss: 0.3301 - accuracy: 0.8644\n",
      "Epoch 89/100\n",
      "250/250 [==============================] - 0s 542us/step - loss: 0.3302 - accuracy: 0.8650\n",
      "Epoch 90/100\n",
      "250/250 [==============================] - 0s 549us/step - loss: 0.3298 - accuracy: 0.8660\n",
      "Epoch 91/100\n",
      "250/250 [==============================] - 0s 536us/step - loss: 0.3299 - accuracy: 0.8630\n",
      "Epoch 92/100\n",
      "250/250 [==============================] - 0s 516us/step - loss: 0.3296 - accuracy: 0.8644\n",
      "Epoch 93/100\n",
      "250/250 [==============================] - 0s 553us/step - loss: 0.3298 - accuracy: 0.8652\n",
      "Epoch 94/100\n",
      "250/250 [==============================] - 0s 565us/step - loss: 0.3299 - accuracy: 0.8634\n",
      "Epoch 95/100\n",
      "250/250 [==============================] - 0s 525us/step - loss: 0.3296 - accuracy: 0.8635\n",
      "Epoch 96/100\n",
      "250/250 [==============================] - 0s 545us/step - loss: 0.3296 - accuracy: 0.8649\n",
      "Epoch 97/100\n",
      "250/250 [==============================] - 0s 551us/step - loss: 0.3293 - accuracy: 0.8644\n",
      "Epoch 98/100\n",
      "250/250 [==============================] - 0s 562us/step - loss: 0.3292 - accuracy: 0.8625\n",
      "Epoch 99/100\n",
      "250/250 [==============================] - 0s 549us/step - loss: 0.3299 - accuracy: 0.8636\n",
      "Epoch 100/100\n",
      "250/250 [==============================] - 0s 555us/step - loss: 0.3293 - accuracy: 0.8633\n"
     ]
    },
    {
     "data": {
      "text/plain": [
       "<keras.callbacks.History at 0x281bd8cdc40>"
      ]
     },
     "execution_count": 20,
     "metadata": {},
     "output_type": "execute_result"
    }
   ],
   "source": [
    "ann.fit(X_train, y_train, batch_size = 32, epochs = 100)"
   ]
  },
  {
   "cell_type": "markdown",
   "id": "7130b7d9",
   "metadata": {},
   "source": [
    "# Making the predictions and evaluating the model"
   ]
  },
  {
   "cell_type": "code",
   "execution_count": 23,
   "id": "0ab2e259",
   "metadata": {},
   "outputs": [
    {
     "name": "stdout",
     "output_type": "stream",
     "text": [
      "[[False]]\n"
     ]
    }
   ],
   "source": [
    "print(ann.predict(sc.transform([[1, 0, 0, 600, 1, 40, 3, 60000, 2, 1, 1, 50000]])) > 0.5)"
   ]
  },
  {
   "cell_type": "markdown",
   "id": "1b62dc10",
   "metadata": {},
   "source": [
    "# Predicting the Test set results"
   ]
  },
  {
   "cell_type": "code",
   "execution_count": 25,
   "id": "1cd295e5",
   "metadata": {},
   "outputs": [
    {
     "name": "stdout",
     "output_type": "stream",
     "text": [
      "[[0 0]\n",
      " [0 1]\n",
      " [0 0]\n",
      " ...\n",
      " [0 0]\n",
      " [0 0]\n",
      " [0 0]]\n"
     ]
    }
   ],
   "source": [
    "y_pred = ann.predict(X_test)\n",
    "y_pred = (y_pred > 0.5)\n",
    "print(np.concatenate((y_pred.reshape(len(y_pred),1), y_test.reshape(len(y_test),1)),1))"
   ]
  },
  {
   "cell_type": "markdown",
   "id": "54a24df2",
   "metadata": {},
   "source": [
    "# Making the Confusion Matrix"
   ]
  },
  {
   "cell_type": "code",
   "execution_count": 26,
   "id": "e5df2528",
   "metadata": {},
   "outputs": [
    {
     "name": "stdout",
     "output_type": "stream",
     "text": [
      "[[1512   83]\n",
      " [ 192  213]]\n"
     ]
    },
    {
     "data": {
      "text/plain": [
       "0.8625"
      ]
     },
     "execution_count": 26,
     "metadata": {},
     "output_type": "execute_result"
    }
   ],
   "source": [
    "from sklearn.metrics import confusion_matrix, accuracy_score\n",
    "cm = confusion_matrix(y_test, y_pred)\n",
    "print(cm)\n",
    "accuracy_score(y_test, y_pred)"
   ]
  },
  {
   "cell_type": "code",
   "execution_count": null,
   "id": "7bcfc861",
   "metadata": {},
   "outputs": [],
   "source": []
  }
 ],
 "metadata": {
  "kernelspec": {
   "display_name": "Python 3 (ipykernel)",
   "language": "python",
   "name": "python3"
  },
  "language_info": {
   "codemirror_mode": {
    "name": "ipython",
    "version": 3
   },
   "file_extension": ".py",
   "mimetype": "text/x-python",
   "name": "python",
   "nbconvert_exporter": "python",
   "pygments_lexer": "ipython3",
   "version": "3.9.6"
  }
 },
 "nbformat": 4,
 "nbformat_minor": 5
}
